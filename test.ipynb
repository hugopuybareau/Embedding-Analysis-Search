{
 "cells": [
  {
   "cell_type": "code",
   "execution_count": 29,
   "metadata": {},
   "outputs": [
    {
     "name": "stderr",
     "output_type": "stream",
     "text": [
      "[nltk_data] Downloading package punkt_tab to\n",
      "[nltk_data]     /Users/hugopuybareau/nltk_data...\n",
      "[nltk_data]   Package punkt_tab is already up-to-date!\n"
     ]
    }
   ],
   "source": [
    "import importlib\n",
    "import embedding_models\n",
    "importlib.reload(embedding_models)\n",
    "from embedding_models import EmbeddingModel\n",
    "\n",
    "# Quick data\n",
    "articles = [\n",
    "    \"L'intelligence artificielle révolutionne la finance\",\n",
    "    \"Les marchés boursiers chutent après une annonce de la FED\",\n",
    "    \"Tesla annonce une nouvelle batterie à autonomie record\",\n",
    "    \"Apple dévoile son iPhone 16 avec des fonctionnalités inédites\",\n",
    "    \"Le marché du travail en France connaît une hausse des embauches\",\n",
    "    \"L'IA et la cybersécurité : une nouvelle ère de protection des données\"\n",
    "]\n",
    "\n",
    "# model = EmbeddingModel('tfidf')\n",
    "model = EmbeddingModel('word2vec')\n",
    "# model = EmbeddingModel('sbert')"
   ]
  },
  {
   "cell_type": "code",
   "execution_count": 30,
   "metadata": {},
   "outputs": [
    {
     "name": "stdout",
     "output_type": "stream",
     "text": [
      "[[\"l'intelligence\", 'artificielle', 'révolutionne', 'la', 'finance'], ['les', 'marchés', 'boursiers', 'chutent', 'après', 'une', 'annonce', 'de', 'la', 'fed'], ['tesla', 'annonce', 'une', 'nouvelle', 'batterie', 'à', 'autonomie', 'record'], ['apple', 'dévoile', 'son', 'iphone', '16', 'avec', 'des', 'fonctionnalités', 'inédites'], ['le', 'marché', 'du', 'travail', 'en', 'france', 'connaît', 'une', 'hausse', 'des', 'embauches'], [\"l'ia\", 'et', 'la', 'cybersécurité', ':', 'une', 'nouvelle', 'ère', 'de', 'protection', 'des', 'données']]\n"
     ]
    }
   ],
   "source": [
    "model.fit(articles)"
   ]
  },
  {
   "cell_type": "code",
   "execution_count": 31,
   "metadata": {},
   "outputs": [
    {
     "data": {
      "text/plain": [
       "<embedding_models.EmbeddingModel at 0x16de8cee0>"
      ]
     },
     "execution_count": 31,
     "metadata": {},
     "output_type": "execute_result"
    }
   ],
   "source": [
    "model"
   ]
  },
  {
   "cell_type": "code",
   "execution_count": null,
   "metadata": {},
   "outputs": [],
   "source": []
  }
 ],
 "metadata": {
  "kernelspec": {
   "display_name": "env_embeddings",
   "language": "python",
   "name": "python3"
  },
  "language_info": {
   "codemirror_mode": {
    "name": "ipython",
    "version": 3
   },
   "file_extension": ".py",
   "mimetype": "text/x-python",
   "name": "python",
   "nbconvert_exporter": "python",
   "pygments_lexer": "ipython3",
   "version": "3.9.6"
  }
 },
 "nbformat": 4,
 "nbformat_minor": 2
}
