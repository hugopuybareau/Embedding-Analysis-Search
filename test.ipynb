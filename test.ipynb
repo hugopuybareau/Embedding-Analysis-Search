{
 "cells": [
  {
   "cell_type": "code",
   "execution_count": 173,
   "metadata": {},
   "outputs": [],
   "source": [
    "import importlib\n",
    "import embedding_models\n",
    "importlib.reload(embedding_models)\n",
    "from embedding_models import EmbeddingModel\n",
    "# import numpy as np\n",
    "\n",
    "# Quick data\n",
    "articles = [\n",
    "    \"L'intelligence artificielle révolutionne la finance\",\n",
    "    \"Les marchés boursiers chutent après une annonce de la FED\",\n",
    "    \"Tesla annonce une nouvelle batterie à autonomie record\",\n",
    "    \"Apple dévoile son iPhone 16 avec des fonctionnalités inédites\",\n",
    "    \"Le marché du travail en France connaît une hausse des embauches\",\n",
    "    \"L'IA et la cybersécurité : une nouvelle ère de protection des données\",\n",
    "    \"L'intelligence artificielle révolutionne la économie\"\n",
    "]\n",
    "\n",
    "tfidf = EmbeddingModel('tfidf')\n",
    "w2v = EmbeddingModel('word2vec')\n",
    "sbert = EmbeddingModel('sbert')"
   ]
  },
  {
   "cell_type": "code",
   "execution_count": 174,
   "metadata": {},
   "outputs": [],
   "source": [
    "tfidf.fit(articles)\n",
    "w2v.fit(articles)\n",
    "sbert.fit(articles)"
   ]
  },
  {
   "cell_type": "code",
   "execution_count": 175,
   "metadata": {},
   "outputs": [],
   "source": [
    "embeddings_tfidf = tfidf.transform(articles)\n",
    "embeddings_w2v = w2v.transform(articles)\n",
    "embeddings_sbert = sbert.transform(articles)"
   ]
  },
  {
   "cell_type": "code",
   "execution_count": 176,
   "metadata": {},
   "outputs": [],
   "source": [
    "similarity_tfidf = tfidf.similarity(embeddings_tfidf[0], embeddings_tfidf[6])\n",
    "similarity_w2v = w2v.similarity(embeddings_w2v[0], embeddings_w2v[6])\n",
    "similarity_sbert = sbert.similarity(embeddings_sbert[0], embeddings_sbert[6])"
   ]
  },
  {
   "cell_type": "code",
   "execution_count": 177,
   "metadata": {},
   "outputs": [
    {
     "name": "stdout",
     "output_type": "stream",
     "text": [
      "Similarité TFIDF entre l'article 1 et l'article 7 : 0.71\n",
      "Similarité WV entre l'article 1 et l'article 7 : 0.76\n",
      "Similarité SBERT entre l'article 1 et l'article 7 : 0.80\n"
     ]
    }
   ],
   "source": [
    "print(f\"Similarité TFIDF entre l'article 1 et l'article 7 : {similarity_tfidf:.2f}\")\n",
    "print(f\"Similarité WV entre l'article 1 et l'article 7 : {similarity_w2v:.2f}\")\n",
    "print(f\"Similarité SBERT entre l'article 1 et l'article 7 : {similarity_sbert:.2f}\")"
   ]
  },
  {
   "cell_type": "code",
   "execution_count": 178,
   "metadata": {},
   "outputs": [],
   "source": [
    "# word = \"la économie\"\n",
    "# word_lower = word.lower()\n",
    "\n",
    "# if word in w2v.model.wv:\n",
    "#     vec_economie = w2v.model.wv[word]\n",
    "# elif word_lower in w2v.model.wv:\n",
    "#     vec_economie = w2v.model.wv[word_lower]\n",
    "# else:\n",
    "#     print(f\"Le mot '{word}' ou sa version minuscule '{word_lower}' ne sont pas dans Word2Vec.\")"
   ]
  },
  {
   "cell_type": "code",
   "execution_count": 179,
   "metadata": {},
   "outputs": [
    {
     "name": "stdout",
     "output_type": "stream",
     "text": [
      "Similarité Word2Vec entre 'finance' et 'économie' : 0.08\n",
      "Similarité SBERT entre 'finance' et 'économie' : 0.38\n"
     ]
    }
   ],
   "source": [
    "# SBERT encodes the whole sentence to seize the global meaning.\n",
    "# As 'finance' and 'economie' are close in meanings SBERT gives a higher similarity.\n",
    "# On the other hand, Word2Vec vectorizes each word independently. The mean of the vectors\n",
    "# struggles to capture the link between 'finance' & 'economie'. \n",
    "\n",
    "vec_finance_w2v = w2v.model.wv[\"finance\"]\n",
    "vec_economie_w2v = w2v.model.wv[\"économie\"]\n",
    "\n",
    "vec_finance_sbert = sbert.model.encode(['finance'])[0]\n",
    "vec_economie_sbert = sbert.model.encode(['économie'])[0]\n",
    "\n",
    "similarity_fe_w2v = w2v.similarity(vec_finance_w2v, vec_economie_w2v)\n",
    "similarity_fe_sbert = w2v.similarity(vec_finance_sbert, vec_economie_sbert)\n",
    "\n",
    "print(f\"Similarité Word2Vec entre 'finance' et 'économie' : {similarity_fe_w2v:.2f}\")\n",
    "print(f\"Similarité SBERT entre 'finance' et 'économie' : {similarity_fe_sbert:.2f}\")\n"
   ]
  },
  {
   "cell_type": "code",
   "execution_count": null,
   "metadata": {},
   "outputs": [],
   "source": [
    "# Yeah, the difference we have is definetly linked to this then. "
   ]
  }
 ],
 "metadata": {
  "kernelspec": {
   "display_name": "env_embeddings",
   "language": "python",
   "name": "python3"
  },
  "language_info": {
   "codemirror_mode": {
    "name": "ipython",
    "version": 3
   },
   "file_extension": ".py",
   "mimetype": "text/x-python",
   "name": "python",
   "nbconvert_exporter": "python",
   "pygments_lexer": "ipython3",
   "version": "3.9.6"
  }
 },
 "nbformat": 4,
 "nbformat_minor": 2
}
