{
 "cells": [
  {
   "cell_type": "markdown",
   "metadata": {},
   "source": [
    "# Adding a semantic search engine"
   ]
  },
  {
   "cell_type": "markdown",
   "metadata": {},
   "source": [
    "## 📌 **Overview**\n",
    "A **semantic search engine** retrieves documents **based on meaning, not just keywords**.  \n",
    "It ranks results **by relevance** using **text embeddings** and **cosine similarity**.\n",
    "\n",
    "---\n",
    "\n",
    "## **🛠️ Steps**\n",
    "   - Documents and queries are transformed into numerical vectors using **SBERT** or another model.  \n",
    "   - The query is **converted into an embedding**.  \n",
    "   - We compute **cosine similarity** between the query and all document embeddings.\n",
    "   - Documents with the **highest similarity scores** are ranked and displayed.  \n",
    "   - Even if a document doesn’t contain exact words from the query, it can still be retrieved if the meaning is similar.\n"
   ]
  },
  {
   "cell_type": "code",
   "execution_count": 1,
   "metadata": {},
   "outputs": [
    {
     "name": "stderr",
     "output_type": "stream",
     "text": [
      "/Users/hugopuybareau/Documents/GitHub/Embedding-Analysis-Search/env_embeddings/lib/python3.9/site-packages/urllib3/__init__.py:35: NotOpenSSLWarning: urllib3 v2 only supports OpenSSL 1.1.1+, currently the 'ssl' module is compiled with 'LibreSSL 2.8.3'. See: https://github.com/urllib3/urllib3/issues/3020\n",
      "  warnings.warn(\n",
      "/Users/hugopuybareau/Documents/GitHub/Embedding-Analysis-Search/env_embeddings/lib/python3.9/site-packages/tqdm/auto.py:21: TqdmWarning: IProgress not found. Please update jupyter and ipywidgets. See https://ipywidgets.readthedocs.io/en/stable/user_install.html\n",
      "  from .autonotebook import tqdm as notebook_tqdm\n"
     ]
    }
   ],
   "source": [
    "import importlib\n",
    "import embedding_models\n",
    "importlib.reload(embedding_models)\n",
    "from embedding_models import EmbeddingModel\n",
    "import tqdm as notebook_tqdm\n",
    "\n",
    "texts = [\n",
    "    \"Artificial intelligence is revolutionizing finance\",\n",
    "    \"Stock markets drop after FED announcement\",\n",
    "    \"Tesla unveils new battery with record range\",\n",
    "    \"Apple launches iPhone 16 with new features\",\n",
    "    \"The job market in France is seeing an increase in hiring\",\n",
    "    \"AI and cybersecurity: A new era of data protection\",\n",
    "    \"Artificial intelligence is revolutionizing economy\",\n",
    "]"
   ]
  },
  {
   "cell_type": "code",
   "execution_count": 2,
   "metadata": {},
   "outputs": [],
   "source": [
    "model = EmbeddingModel(method=\"sbert\")\n",
    "model.fit(texts)"
   ]
  },
  {
   "cell_type": "code",
   "execution_count": 3,
   "metadata": {},
   "outputs": [
    {
     "name": "stdout",
     "output_type": "stream",
     "text": [
      "Indexed 7 texts.\n"
     ]
    }
   ],
   "source": [
    "# Index the texts' embeddings so I can look them up\n",
    "model.index_texts(texts)"
   ]
  },
  {
   "cell_type": "code",
   "execution_count": 4,
   "metadata": {},
   "outputs": [],
   "source": [
    "# Semantic research\n",
    "query = \"How is AI changing the finance industry?\"\n",
    "results = model.search_similar(query, how_much_results=3)"
   ]
  },
  {
   "cell_type": "code",
   "execution_count": 5,
   "metadata": {},
   "outputs": [
    {
     "name": "stdout",
     "output_type": "stream",
     "text": [
      "\n",
      "🔍 Search results:\n",
      "\n",
      "Artificial intelligence is revolutionizing finance (Similarity: 0.69)\n",
      "Artificial intelligence is revolutionizing economy (Similarity: 0.54)\n",
      "AI and cybersecurity: A new era of data protection (Similarity: 0.39)\n"
     ]
    }
   ],
   "source": [
    "print(\"\\n🔍 Search results:\\n\")\n",
    "for text, score in results:\n",
    "    print(f\"{text} (Similarity: {score:.2f})\")"
   ]
  },
  {
   "cell_type": "code",
   "execution_count": 6,
   "metadata": {},
   "outputs": [],
   "source": [
    "# makes sense"
   ]
  }
 ],
 "metadata": {
  "kernelspec": {
   "display_name": "env_embeddings",
   "language": "python",
   "name": "python3"
  },
  "language_info": {
   "codemirror_mode": {
    "name": "ipython",
    "version": 3
   },
   "file_extension": ".py",
   "mimetype": "text/x-python",
   "name": "python",
   "nbconvert_exporter": "python",
   "pygments_lexer": "ipython3",
   "version": "3.9.6"
  }
 },
 "nbformat": 4,
 "nbformat_minor": 2
}
